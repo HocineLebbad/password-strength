{
 "cells": [
  {
   "cell_type": "markdown",
   "metadata": {
    "dc": {
     "key": "3"
    },
    "deletable": false,
    "editable": false,
    "run_control": {
     "frozen": true
    },
    "tags": [
     "context"
    ]
   },
   "source": [
    "## # Introduction\n",
    "<p><img src=\"https://i.imgur.com/kjWF1So.jpg\" alt=\"Different characters on a computer screen\"></p>\n",
    "<p>According to a 2019 <a href=\"https://storage.googleapis.com/gweb-uniblog-publish-prod/documents/PasswordCheckup-HarrisPoll-InfographicFINAL.pdf\">Google / Harris Poll</a>, 24% of Americans have used common passwords, like <code>abc123</code>, <code>Password</code>, and <code>Admin</code>. Even more concerning, 59% of Americans have incorporated personal information, such as their name or birthday, into their password. This makes it unsurprising that 4 in 10 Americans have had their personal information compromised online. Passwords with commonly used phrases and personal information makes cracking a password drastically easier.</p>\n",
    "<p>You may have noticed over the years that password requirements have increased in complexity, including recommendations to change your passwords every couple of months. Compiled from industry recommendations, below is a list of passwords requirements you will be asked to test: </p>\n",
    "<p><strong>Password Requirments:</strong></p>\n",
    "<ol>\n",
    "<li>Must be at least 10 characters in length</li>\n",
    "<li>Must contain at least:<ul>\n",
    "<li>one lower case letter </li>\n",
    "<li>one upper case letter </li>\n",
    "<li>one numeric character </li>\n",
    "<li>one non-alphanumeric character</li></ul></li>\n",
    "<li>Must not contain the phrase <code>password</code> (case insensitive)</li>\n",
    "<li>Must not contain the user's first or last name, e.g., if the user's name is <code>John Smith</code>, then <code>SmItH876!</code> is not a valid password.</li>\n",
    "</ol>\n",
    "<p>Here is the dataset that you will investigate this project:</p>\n",
    "<div style=\"background-color: #ebf4f7; color: #595959; text-align:left; vertical-align: middle; padding: 15px 25px 15px 25px; line-height: 1.6;\">\n",
    "    <div style=\"font-size:20px\"><b>datasets/logins.csv</b></div>\n",
    "Each row represents a login credential. There are no missing values and you can consider the dataset \"clean\".\n",
    "<ul>\n",
    "    <li><b>id:</b> the user's unique ID.</li>\n",
    "    <li><b>username:</b> the username with the format {firstname}.{lastname}.</li>\n",
    "    <li><b>password:</b> the password that may or may not meet the requirements. <i>Note, passwords should never be saved in plaintext, always encrypt them when working with real live passwords!</i></li>\n",
    "</ul>\n",
    "</div>\n",
    "<p>Warning: This dataset contains some <strong>real</strong> passwords leaked from <strong>real</strong> websites. These passwords have been filtered, but may still include words that are explicit and offensive.</p>\n",
    "<p>From here on out, it will be your task to explore and manipulate the existing data until you can answer the two questions described in the instructions panel. Feel free to import as many packages as you need to complete your task, and add cells as necessary. Finally, remember that you are only tested on your answer, not on the methods you use to arrive at the answer!</p>\n",
    "<p><strong>Note:</strong> To complete this project, you need to know how to manipulate strings in pandas DataFrames and be familiar with regular expressions. Before starting this project we recommend that you have completed the following courses: <a href=\"https://learn.datacamp.com/courses/data-cleaning-in-python\">Data Cleaning in Python</a> and <a href=\"https://learn.datacamp.com/courses/regular-expressions-in-python\">Regular Expressions in Python</a>.</p>"
   ]
  },
  {
   "cell_type": "markdown",
   "metadata": {
    "collapsed": true
   },
   "source": [
    "# Solution"
   ]
  },
  {
   "cell_type": "code",
   "execution_count": 1,
   "metadata": {
    "dc": {
     "key": "3"
    },
    "scrolled": true,
    "tags": [
     "sample_code"
    ]
   },
   "outputs": [
    {
     "data": {
      "text/html": [
       "<div>\n",
       "<style scoped>\n",
       "    .dataframe tbody tr th:only-of-type {\n",
       "        vertical-align: middle;\n",
       "    }\n",
       "\n",
       "    .dataframe tbody tr th {\n",
       "        vertical-align: top;\n",
       "    }\n",
       "\n",
       "    .dataframe thead th {\n",
       "        text-align: right;\n",
       "    }\n",
       "</style>\n",
       "<table border=\"1\" class=\"dataframe\">\n",
       "  <thead>\n",
       "    <tr style=\"text-align: right;\">\n",
       "      <th></th>\n",
       "      <th>id</th>\n",
       "      <th>username</th>\n",
       "      <th>password</th>\n",
       "    </tr>\n",
       "  </thead>\n",
       "  <tbody>\n",
       "    <tr>\n",
       "      <th>0</th>\n",
       "      <td>1</td>\n",
       "      <td>vance.jennings</td>\n",
       "      <td>vanceRules888!</td>\n",
       "    </tr>\n",
       "    <tr>\n",
       "      <th>1</th>\n",
       "      <td>2</td>\n",
       "      <td>consuelo.eaton</td>\n",
       "      <td>Mail_Pen%Scarlets.414</td>\n",
       "    </tr>\n",
       "    <tr>\n",
       "      <th>2</th>\n",
       "      <td>3</td>\n",
       "      <td>mitchel.perkins</td>\n",
       "      <td>Z00+1960</td>\n",
       "    </tr>\n",
       "    <tr>\n",
       "      <th>3</th>\n",
       "      <td>4</td>\n",
       "      <td>odessa.vaughan</td>\n",
       "      <td>D-rockyou</td>\n",
       "    </tr>\n",
       "    <tr>\n",
       "      <th>4</th>\n",
       "      <td>5</td>\n",
       "      <td>araceli.wilder</td>\n",
       "      <td>Araceli}r3</td>\n",
       "    </tr>\n",
       "  </tbody>\n",
       "</table>\n",
       "</div>"
      ],
      "text/plain": [
       "   id         username               password\n",
       "0   1   vance.jennings         vanceRules888!\n",
       "1   2   consuelo.eaton  Mail_Pen%Scarlets.414\n",
       "2   3  mitchel.perkins               Z00+1960\n",
       "3   4   odessa.vaughan              D-rockyou\n",
       "4   5   araceli.wilder             Araceli}r3"
      ]
     },
     "metadata": {},
     "output_type": "display_data"
    },
    {
     "name": "stdout",
     "output_type": "stream",
     "text": [
      "There are 982 lines in the dataset\n"
     ]
    }
   ],
   "source": [
    "import numpy as np\n",
    "import pandas as pd\n",
    "import re\n",
    "\n",
    "# Data acquisition\n",
    "df = pd.read_csv('datasets/logins.csv')\n",
    "\n",
    "# Exploratory data analysis\n",
    "display(df.head(n=5))\n",
    "print('There are %s lines in the dataset'%df.shape[0])"
   ]
  },
  {
   "cell_type": "code",
   "execution_count": 2,
   "metadata": {},
   "outputs": [],
   "source": [
    "# To check whether the passwords requirements are fulfilled, passwords have to be\n",
    "# compared with first and last names (case insensitive). \n",
    "# We extract the first and last names from the 'username' column and we create\n",
    "# a new column which contains the passwords converted to lower case.\n",
    "\n",
    "df['firstnames'] = df.apply((lambda x: x['username'].split('.')[0]),axis=1)\n",
    "df['lastnames'] = df.apply((lambda x: x['username'].split('.')[1]),axis=1)\n",
    "df['password_lower'] = df.apply((lambda x: x['password'].lower()),axis=1)"
   ]
  },
  {
   "cell_type": "markdown",
   "metadata": {},
   "source": [
    "**There are 4 password requirements. The idea is to analyse whether each of the requirements is fulfilled and to store the answer in 4 different columns (which contain boolean values). It is then straightforward to deduce when all requirements are fulfilled.**"
   ]
  },
  {
   "cell_type": "code",
   "execution_count": 3,
   "metadata": {},
   "outputs": [
    {
     "name": "stdout",
     "output_type": "stream",
     "text": [
      "0             abdul.rowland\n",
      "1              addie.cherry\n",
      "2              adele.moreno\n",
      "3              adeline.bush\n",
      "4               adolfo.kane\n",
      "5               adolfo.lara\n",
      "6              ahmad.hopper\n",
      "7                aida.combs\n",
      "8             aisha.jenkins\n",
      "9                 al.dunlap\n",
      "10             alana.franco\n",
      "11          alberta.leblanc\n",
      "12             alec.robbins\n",
      "13     alejandra.stephenson\n",
      "14          alejandro.burke\n",
      "15         alejandro.nieves\n",
      "16         alexander.thomas\n",
      "17        alexandria.hinton\n",
      "18        alexis.mccullough\n",
      "19          alexis.reynolds\n",
      "20           alfonso.weaver\n",
      "21            alfonzo.johns\n",
      "22           alisa.campbell\n",
      "23              alisa.cohen\n",
      "24              alison.neal\n",
      "25           allan.marshall\n",
      "26            alonzo.fowler\n",
      "27            amado.bridges\n",
      "28         amado.fitzgerald\n",
      "29            amber.summers\n",
      "               ...         \n",
      "706             ursula.wood\n",
      "707       valentin.castillo\n",
      "708           valeria.curry\n",
      "709          vance.jennings\n",
      "710           vanessa.davis\n",
      "711             verna.white\n",
      "712          vicente.hopper\n",
      "713            victor.bryan\n",
      "714              vilma.hart\n",
      "715       vincent.contreras\n",
      "716            viola.foster\n",
      "717             violet.horn\n",
      "718           virgie.atkins\n",
      "719        walter.blackwell\n",
      "720           walter.conner\n",
      "721           walter.hughes\n",
      "722        wilburn.shepherd\n",
      "723         wilford.kaufman\n",
      "724         wilfredo.keller\n",
      "725      willard.williamson\n",
      "726      williams.mcfarland\n",
      "727           williams.rios\n",
      "728        willis.cervantes\n",
      "729            wyatt.finley\n",
      "730             young.booth\n",
      "731        yvette.whitfield\n",
      "732            yvonne.munoz\n",
      "733            zachary.huff\n",
      "734            zelma.abbott\n",
      "735           zelma.rosario\n",
      "Name: username, Length: 736, dtype: object\n"
     ]
    }
   ],
   "source": [
    "# Condition 1: Must be at least 10 characters in length\n",
    "\n",
    "df['condition1'] = df.apply((lambda x: len(x['password'])>=10),axis=1)\n",
    "\n",
    "# Condition 2: Must contain at least: one lower case letter, \n",
    "#              one upper case letter, one numeric character, \n",
    "#              one non-alphanumeric character\n",
    "\n",
    "def condition2(x):\n",
    "    regs = ['[a-z]','[A-Z]','[0-9]','[^a-zA-Z0-9_]']\n",
    "    output = True\n",
    "\n",
    "    for reg in regs:\n",
    "        output = output & bool(re.search(reg,x['password']))\n",
    "    \n",
    "    return output\n",
    "\n",
    "df['condition2'] = df.apply(condition2,axis=1)\n",
    "    \n",
    "# Condition 3: Must not contain the phrase password (case insensitive)\n",
    "\n",
    "df['condition3'] = df.apply((lambda x: 'password' not in (x['password_lower'])),axis=1)\n",
    "\n",
    "# Condition 4: Must not contain the user's first or last name, e.g., \n",
    "#              if the user's name is John Smith, \n",
    "#              then SmItH876! is not a valid password.\n",
    "\n",
    "def condition4(x):\n",
    "    condition4a = x['firstnames'] not in (x['password_lower'])\n",
    "    condition4b = x['lastnames'] not in (x['password_lower'])\n",
    "    return (condition4a and condition4b)\n",
    "\n",
    "df['condition4'] = df.apply((condition4),axis=1)\n",
    "\n",
    "df['all_conditions'] = df.apply(lambda x: x['condition1'] & x['condition2'] \\\n",
    "                                & x['condition3'] & x['condition4'],axis=1)\n",
    "\n",
    "columns_to_keep = ['id','username','password','all_conditions']\n",
    "\n",
    "df = df[columns_to_keep]\n",
    "\n",
    "good_pass =  df['all_conditions'].sum() / df.shape[0]\n",
    "\n",
    "bad_pass = float(round(1.0-good_pass,2))\n",
    "\n",
    "email_list = df[~df['all_conditions']]['username'].sort_values().reset_index(drop=True)\n",
    "\n",
    "print(email_list)"
   ]
  },
  {
   "cell_type": "code",
   "execution_count": null,
   "metadata": {},
   "outputs": [],
   "source": []
  }
 ],
 "metadata": {
  "kernelspec": {
   "display_name": "Python 3",
   "language": "python",
   "name": "python3"
  },
  "language_info": {
   "codemirror_mode": {
    "name": "ipython",
    "version": 3
   },
   "file_extension": ".py",
   "mimetype": "text/x-python",
   "name": "python",
   "nbconvert_exporter": "python",
   "pygments_lexer": "ipython3",
   "version": "3.6.6"
  }
 },
 "nbformat": 4,
 "nbformat_minor": 2
}
